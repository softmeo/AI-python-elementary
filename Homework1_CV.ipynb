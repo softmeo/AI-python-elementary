{
 "cells": [
  {
   "cell_type": "code",
   "execution_count": 1,
   "id": "52eaf894",
   "metadata": {},
   "outputs": [],
   "source": [
    "import numpy as np\n",
    "import pandas as pd\n",
    "from docxtpl import DocxTemplate"
   ]
  },
  {
   "cell_type": "code",
   "execution_count": 2,
   "id": "81049096",
   "metadata": {},
   "outputs": [],
   "source": [
    "depart = pd.read_csv('depart_list.csv')\n",
    "univ = pd.read_csv('univ_list.csv')"
   ]
  },
  {
   "cell_type": "code",
   "execution_count": 3,
   "id": "33ef4d9a",
   "metadata": {},
   "outputs": [],
   "source": [
    "univ = univ.dropna(subset = ['Rank'])"
   ]
  },
  {
   "cell_type": "code",
   "execution_count": null,
   "id": "201b1682",
   "metadata": {},
   "outputs": [],
   "source": [
    "univ_1 = univ['Institution'].str.split(',', expand = True)"
   ]
  },
  {
   "cell_type": "code",
   "execution_count": 5,
   "id": "1ae4cbe0",
   "metadata": {},
   "outputs": [],
   "source": [
    "univ_1.columns = ['depart', 'school', 'ext']\n",
    "del univ_1['ext']"
   ]
  },
  {
   "cell_type": "code",
   "execution_count": null,
   "id": "01814a3e",
   "metadata": {},
   "outputs": [],
   "source": [
    "univ_1.fillna({'school': 'your school'})"
   ]
  },
  {
   "cell_type": "code",
   "execution_count": 7,
   "id": "02e7e1bf",
   "metadata": {},
   "outputs": [],
   "source": [
    "univ_1.reset_index(inplace = True, drop = True)"
   ]
  },
  {
   "cell_type": "code",
   "execution_count": 9,
   "id": "1e3940d9",
   "metadata": {},
   "outputs": [],
   "source": [
    "tpl = DocxTemplate('application_template.docx')\n",
    "for i in range(len(depart)):\n",
    "    for j in range(len(univ_1)):\n",
    "        depart_name = depart['department'].iloc[i]\n",
    "        univ_name = univ_1['school'].iloc[j]\n",
    "        context = {'depart':depart_name, 'univ':univ_name}\n",
    "        tpl.render(context)\n",
    "        string = __builtins__.str\n",
    "        gen_name = '{}_{}.docx'.format(string(i),string(j))\n",
    "        tpl.save(gen_name)\n"
   ]
  }
 ],
 "metadata": {
  "kernelspec": {
   "display_name": "base",
   "language": "python",
   "name": "python3"
  },
  "language_info": {
   "codemirror_mode": {
    "name": "ipython",
    "version": 3
   },
   "file_extension": ".py",
   "mimetype": "text/x-python",
   "name": "python",
   "nbconvert_exporter": "python",
   "pygments_lexer": "ipython3",
   "version": "3.9.7"
  }
 },
 "nbformat": 4,
 "nbformat_minor": 5
}
