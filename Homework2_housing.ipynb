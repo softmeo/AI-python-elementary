{
 "cells": [
  {
   "cell_type": "code",
   "execution_count": null,
   "metadata": {
    "collapsed": false,
    "id": "A041CF0A670B4056A7254A75776D1324",
    "jupyter": {},
    "notebookId": "676cfe3a624010767135b6bf",
    "scrolled": true,
    "slideshow": {
     "slide_type": "slide"
    },
    "tags": [],
    "trusted": true
   },
   "outputs": [],
   "source": [
    "pip install xgboost -i https://pypi.tuna.tsinghua.edu.cn/simple"
   ]
  },
  {
   "cell_type": "code",
   "execution_count": 47,
   "metadata": {
    "collapsed": false,
    "id": "FF20717A2FD943DC8647A65E3CF3342A",
    "jupyter": {},
    "notebookId": "676cfe3a624010767135b6bf",
    "scrolled": false,
    "slideshow": {
     "slide_type": "slide"
    },
    "tags": [],
    "trusted": true
   },
   "outputs": [],
   "source": [
    "import pandas as pd\n",
    "import numpy as np\n",
    "import matplotlib.pyplot as plt\n",
    "import seaborn as sns\n",
    "import re\n",
    "from sklearn.model_selection import train_test_split, GridSearchCV, cross_val_score\n",
    "import xgboost as xgb\n",
    "from sklearn.linear_model import LinearRegression\n",
    "from sklearn.linear_model import Ridge\n",
    "from sklearn.linear_model import Lasso\n",
    "from sklearn.linear_model import ElasticNet\n",
    "from sklearn.metrics import mean_squared_error\n",
    "from sklearn import preprocessing\n",
    "from sklearn.preprocessing import PolynomialFeatures\n",
    "from sklearn.compose import ColumnTransformer\n",
    "from sklearn.preprocessing import OrdinalEncoder\n",
    "from sklearn.preprocessing import StandardScaler\n",
    "from sklearn.pipeline import make_pipeline"
   ]
  },
  {
   "cell_type": "code",
   "execution_count": null,
   "metadata": {
    "collapsed": false,
    "id": "549C146785E841828ACF4D615CD5C4F7",
    "jupyter": {},
    "notebookId": "676cfe3a624010767135b6bf",
    "scrolled": false,
    "slideshow": {
     "slide_type": "slide"
    },
    "tags": [],
    "trusted": true
   },
   "outputs": [],
   "source": [
    "train = pd.read_csv(\"train.csv\")\n",
    "test = pd.read_csv(\"test.csv\")\n",
    "detail = pd.read_csv(\"details.csv\")"
   ]
  },
  {
   "cell_type": "code",
   "execution_count": 49,
   "metadata": {
    "collapsed": false,
    "id": "8EDF9D0515D342F781FB6AFA4CA8A880",
    "jupyter": {},
    "notebookId": "676cfe3a624010767135b6bf",
    "scrolled": false,
    "slideshow": {
     "slide_type": "slide"
    },
    "tags": [],
    "trusted": true
   },
   "outputs": [],
   "source": [
    "# 创建列名映射字典\n",
    "rename_dict = {\n",
    "    '城市': '城市',\n",
    "    '板块': '板块',\n",
    "    '环线位置': '环线',\n",
    "    '小区地址': '交通出行',\n",
    "    '物业类别': '房屋用途',\n",
    "    '建筑结构': '建筑结构',\n",
    "    '产权描述': '产权所属',\n",
    "    'coord_x': 'lon',\n",
    "    'coord_y': 'lat'\n",
    "}\n",
    "\n",
    "# 重命名列\n",
    "detail.rename(columns=rename_dict, inplace=True)\n",
    "\n",
    "#删除无用信息\n",
    "detail.drop(columns=['物业办公电话'], inplace=True)"
   ]
  },
  {
   "cell_type": "code",
   "execution_count": 50,
   "metadata": {
    "collapsed": false,
    "id": "667E5FB084804DEB9075E92B57200547",
    "jupyter": {},
    "notebookId": "676cfe3a624010767135b6bf",
    "scrolled": false,
    "slideshow": {
     "slide_type": "slide"
    },
    "tags": [],
    "trusted": true
   },
   "outputs": [],
   "source": [
    "train.drop(columns=['抵押信息'], inplace=True)"
   ]
  },
  {
   "cell_type": "code",
   "execution_count": 51,
   "metadata": {
    "collapsed": false,
    "id": "26B07F3A2E4346048D658990F1925DEE",
    "jupyter": {},
    "notebookId": "676cfe3a624010767135b6bf",
    "scrolled": false,
    "slideshow": {
     "slide_type": "slide"
    },
    "tags": [],
    "trusted": true
   },
   "outputs": [
    {
     "name": "stdout",
     "output_type": "stream",
     "text": [
      "<class 'pandas.core.frame.DataFrame'>\n",
      "RangeIndex: 102117 entries, 0 to 102116\n",
      "Data columns (total 15 columns):\n",
      " #   Column  Non-Null Count   Dtype \n",
      "---  ------  --------------   ----- \n",
      " 0   环线      39614 non-null   object\n",
      " 1   房屋户型    101382 non-null  object\n",
      " 2   套内面积    22331 non-null   object\n",
      " 3   建筑结构    101382 non-null  object\n",
      " 4   装修情况    101382 non-null  object\n",
      " 5   梯户比例    99876 non-null   object\n",
      " 6   配备电梯    90451 non-null   object\n",
      " 7   别墅类型    1048 non-null    object\n",
      " 8   上次交易    63850 non-null   object\n",
      " 9   房屋年限    62879 non-null   object\n",
      " 10  房屋优势    80306 non-null   object\n",
      " 11  核心卖点    84127 non-null   object\n",
      " 12  户型介绍    20823 non-null   object\n",
      " 13  周边配套    64451 non-null   object\n",
      " 14  交通出行    64876 non-null   object\n",
      "dtypes: object(15)\n",
      "memory usage: 11.7+ MB\n"
     ]
    }
   ],
   "source": [
    "# 包含缺失值的列\n",
    "missing_columns = train.columns[train.isnull().any()]\n",
    "train[missing_columns].info()"
   ]
  },
  {
   "cell_type": "code",
   "execution_count": 52,
   "metadata": {
    "collapsed": false,
    "id": "B1D3C7C5544E4472B2F5DFA40571031C",
    "jupyter": {},
    "notebookId": "676cfe3a624010767135b6bf",
    "scrolled": false,
    "slideshow": {
     "slide_type": "slide"
    },
    "tags": [],
    "trusted": true
   },
   "outputs": [
    {
     "name": "stdout",
     "output_type": "stream",
     "text": [
      "<class 'pandas.core.frame.DataFrame'>\n",
      "RangeIndex: 102117 entries, 0 to 102116\n",
      "Data columns (total 15 columns):\n",
      " #   Column  Non-Null Count   Dtype  \n",
      "---  ------  --------------   -----  \n",
      " 0   城市      102117 non-null  object \n",
      " 1   区域      102117 non-null  float64\n",
      " 2   板块      102117 non-null  float64\n",
      " 3   小区名称    102117 non-null  object \n",
      " 4   价格      102117 non-null  int64  \n",
      " 5   所在楼层    102117 non-null  object \n",
      " 6   建筑面积    102117 non-null  object \n",
      " 7   房屋朝向    102117 non-null  object \n",
      " 8   交易时间    102117 non-null  object \n",
      " 9   交易权属    102117 non-null  object \n",
      " 10  房屋用途    102117 non-null  object \n",
      " 11  产权所属    102117 non-null  object \n",
      " 12  lon     102117 non-null  float64\n",
      " 13  lat     102117 non-null  float64\n",
      " 14  年份      102117 non-null  int64  \n",
      "dtypes: float64(4), int64(2), object(9)\n",
      "memory usage: 11.7+ MB\n"
     ]
    }
   ],
   "source": [
    "# 不含缺失值的列\n",
    "full_columns = train.columns[~train.isnull().any()]\n",
    "train[full_columns].info()"
   ]
  },
  {
   "cell_type": "code",
   "execution_count": 53,
   "metadata": {
    "collapsed": false,
    "id": "112B5C582E9E41D5848B2B271790D2D5",
    "jupyter": {},
    "notebookId": "676cfe3a624010767135b6bf",
    "scrolled": false,
    "slideshow": {
     "slide_type": "slide"
    },
    "tags": [],
    "trusted": true
   },
   "outputs": [],
   "source": [
    "def fill_inside_space(df):\n",
    "    X = train_data[['建筑面积']]\n",
    "    y = train_data['套内面积']\n",
    "\n",
    "    poly = PolynomialFeatures(degree=2)  # 选择2阶多项式\n",
    "    X_poly = poly.fit_transform(X)\n",
    "\n",
    "    model = LinearRegression()\n",
    "    model.fit(X_poly, y)\n",
    "\n",
    "    # 预测缺失值\n",
    "    missing_data = df[df['套内面积'].isnull()]\n",
    "    X_missing = poly.transform(missing_data[['建筑面积']])\n",
    "    predicted_values = model.predict(X_missing)\n",
    "\n",
    "    # 填充缺失值\n",
    "    df.loc[df['套内面积'].isnull(), '套内面积'] = predicted_values"
   ]
  },
  {
   "cell_type": "code",
   "execution_count": 54,
   "metadata": {
    "collapsed": false,
    "id": "B80E756B3D47400D9812B6DB3269AB8F",
    "jupyter": {},
    "notebookId": "676cfe3a624010767135b6bf",
    "scrolled": false,
    "slideshow": {
     "slide_type": "slide"
    },
    "tags": [],
    "trusted": true
   },
   "outputs": [],
   "source": [
    "def data_process(train, test, detail, stage):\n",
    "    df_detail = detail.copy()\n",
    "    \n",
    "    if stage == 0:\n",
    "        df = train\n",
    "    else:\n",
    "        df = test\n",
    "    # 1.填充缺失值\n",
    "    \n",
    "    # (1)建筑结构\n",
    "    # 用 小区名称&建筑结构 填充 建筑结构\n",
    "    for group_name, group in df.groupby('小区名称'):\n",
    "        # 获取该小区的已知建筑结构\n",
    "        known_structure = group.loc[group['建筑结构'].notnull() & (group['建筑结构'] != '未知结构'), '建筑结构']\n",
    "        # 如果该小区有已知建筑结构，则填充缺失值和 '未知结构其他\n",
    "        if not known_structure.empty:\n",
    "            df.loc[df['小区名称'] == group_name, '建筑结构'] = df.loc[df['小区名称'] == group_name, '建筑结构'].replace({'未知结构': known_structure.iloc[0], None: known_structure.iloc[0]})\n",
    "    df['建筑结构'].fillna('未知结构', inplace=True) # 剩下空值填'无'\n",
    "    \n",
    "    # (2)装修情况\n",
    "    # 用 小区名称&装修情况 填充 建装修情况\n",
    "    for group_name, group in df.groupby('小区名称'):\n",
    "        # 获取该小区的已知装修情况\n",
    "        known_structure = group.loc[group['装修情况'].notnull() & (group['装修情况'] != '其他'), '装修情况']\n",
    "        # 如果该小区有已知装修情况，则填充缺失值和 '未知结构'\n",
    "        if not known_structure.empty:\n",
    "            df.loc[df['小区名称'] == group_name, '装修情况'] = df.loc[df['小区名称'] == group_name, '装修情况'].replace({'其他': known_structure.iloc[0], None: known_structure.iloc[0]})\n",
    "    df['装修情况'].fillna('其他', inplace=True) # 剩下空值填'无'\n",
    "    \n",
    "    # (3)配备电梯\n",
    "    df.loc[df['梯户比例'].notnull() & df['配备电梯'].isnull(), '配备电梯'] = '有' #用 梯户比例 填充 配备电梯\n",
    "    df.loc[df['别墅类型'].notnull() & df['配备电梯'].isnull(), '配备电梯'] = '无' #用 别墅类型 填充 配备电梯\n",
    "    df.loc[df['所在楼层'].str.contains('地下室', na=False), '配备电梯'] = '无'    #用 所在楼层 填充 配备电梯\n",
    "    for group_name, group in df.groupby('小区名称'):                            #用 小区名称&配备电梯 填充 配备电梯\n",
    "        if '有' in group['配备电梯'].values:  # 如果该小区存在 '有' 电梯的记录\n",
    "            df.loc[df['小区名称'] == group_name, '配备电梯'] = '有'\n",
    "        else:  # 如果该小区没有 '有' 电梯的记录\n",
    "            df.loc[df['小区名称'] == group_name, '配备电梯'] = '无'\n",
    "    df['配备电梯'].fillna('无', inplace=True) # 剩下空值填'无'\n",
    "    \n",
    "    # (4)房屋户型\n",
    "    df['房屋户型'].fillna('1室0厅0厨0卫', inplace=True) # 剩下空值填'1室0厅0厨0卫',因为房屋面积都极小\n",
    "    df['室'] = df['房屋户型'].str.extract(r'(\\d+)室').astype(float)\n",
    "    df['厅'] = df['房屋户型'].str.extract(r'(\\d+)厅').astype(float)\n",
    "    df['厨'] = df['房屋户型'].str.extract(r'(\\d+)厨').astype(float)\n",
    "    df['卫'] = df['房屋户型'].str.extract(r'(\\d+)卫').astype(float)\n",
    "    \n",
    "    # (5)套内面积\n",
    "    #去除单位\n",
    "    df['建筑面积'] = df['建筑面积'].str.replace(r'[^\\d\\.]', '', regex=True).astype(float)\n",
    "    df['套内面积'] = df['套内面积'].str.replace(r'[^\\d\\.]', '', regex=True).astype(float)\n",
    "    \n",
    "    # (6)梯户比例\n",
    "    chinese_num_map = {\n",
    "        '一': 1, '二': 2, '三': 3, '四': 4, '五': 5, '六': 6, '七': 7, '八': 8, '九': 9, '十': 10,\n",
    "        '零': 0, '百': 100, '千': 1000, '万': 10000\n",
    "        }\n",
    "\n",
    "    #文本转数字\n",
    "    def chinese_to_num(chinese_str):\n",
    "        if pd.isna(chinese_str):  # 如果为空值，返回0\n",
    "            return 0\n",
    "            \n",
    "        total = 0\n",
    "        unit = 1 # 纪录当前位数\n",
    "        for char in reversed(chinese_str):\n",
    "            if char in chinese_num_map:\n",
    "                digit = chinese_num_map[char]\n",
    "                if digit >= 10:\n",
    "                    if unit > 1:\n",
    "                        total += unit\n",
    "                    unit = digit\n",
    "                else:\n",
    "                    total += digit * unit\n",
    "            else:\n",
    "                total += unit\n",
    "                unit = 1\n",
    "        return total\n",
    "\n",
    "    df['梯数'] = df['梯户比例'].str.extract(r'(\\S+)梯')[0].apply(chinese_to_num)\n",
    "    df['户数'] = df['梯户比例'].str.extract(r'(\\S+)户')[0].apply(chinese_to_num)\n",
    "    df['梯户比值'] = df['户数']/df['梯数']\n",
    "    df['梯户比值'] = df['梯户比值'].replace([np.nan, np.inf], 0)\n",
    "    \n",
    "    # 2.转化为目标格式\n",
    "    \n",
    "    # (1)类别型变量\n",
    "    # categorical_cols=['城市', '建筑结构', '装修情况', '配备电梯', '房屋年限', '产权所属', '室', '厅', '厨', '卫']\n",
    "\n",
    "    # # LabelEncoder\n",
    "    # label_encoders={}\n",
    "    # for col in categorical_cols:\n",
    "    #     le=LabelEncoder()\n",
    "    #     df[col]=le.fit_transform(df[col])\n",
    "    #     label_encoders[col]=le\n",
    "        \n",
    "    #(2)分离出数值型变量\n",
    "    df['avg_lon'] = df.groupby('城市')['lon'].transform('mean')\n",
    "    df['avg_lat'] = df.groupby('城市')['lat'].transform('mean')\n",
    "    # 将纬度和经度从度转换为弧度\n",
    "    df['lat_rad'] = np.radians(df['lat'])\n",
    "    df['lon_rad'] = np.radians(df['lon'])\n",
    "    df['avg_lat_rad'] = np.radians(df['avg_lat'])\n",
    "    df['avg_lon_rad'] = np.radians(df['avg_lon'])\n",
    "\n",
    "    # 计算两点之间的球面距离\n",
    "    R = 6371  # 地球半径，单位：千米\n",
    "    df['distance'] = 2 * R * np.arcsin(np.sqrt(\n",
    "        np.sin((df['avg_lat_rad'] - df['lat_rad']) / 2) ** 2 +\n",
    "        np.cos(df['lat_rad']) * np.cos(df['avg_lat_rad']) *\n",
    "        np.sin((df['avg_lon_rad'] - df['lon_rad']) / 2) ** 2\n",
    "))\n",
    "    \n",
    "    # 价格取对数\n",
    "    if stage==0:\n",
    "        df['log_prices'] = np.log(df['价格'])\n"
   ]
  },
  {
   "cell_type": "code",
   "execution_count": null,
   "metadata": {
    "collapsed": false,
    "id": "301A2F55B14644B181056483DD1BD111",
    "jupyter": {},
    "notebookId": "676cfe3a624010767135b6bf",
    "scrolled": false,
    "slideshow": {
     "slide_type": "slide"
    },
    "tags": [],
    "trusted": true
   },
   "outputs": [],
   "source": [
    "data_process(train, test, detail, stage=0)\n",
    "data_process(train, test, detail, stage=1)"
   ]
  },
  {
   "cell_type": "code",
   "execution_count": 56,
   "metadata": {
    "collapsed": false,
    "id": "3E82ADD465DB47C7AAC424B64A5E6105",
    "jupyter": {},
    "notebookId": "676cfe3a624010767135b6bf",
    "scrolled": false,
    "slideshow": {
     "slide_type": "slide"
    },
    "tags": [],
    "trusted": true
   },
   "outputs": [],
   "source": [
    "nlp_cols = ['房屋优势','核心卖点','户型介绍','周边配套','交通出行']"
   ]
  },
  {
   "cell_type": "code",
   "execution_count": 57,
   "metadata": {
    "collapsed": false,
    "id": "736BDFE1B1C94FD5AE158FE37DFBEE3C",
    "jupyter": {},
    "notebookId": "676cfe3a624010767135b6bf",
    "scrolled": false,
    "slideshow": {
     "slide_type": "slide"
    },
    "tags": [],
    "trusted": true
   },
   "outputs": [],
   "source": [
    "#3.对训练集train_test_split\n",
    "X = train[['城市',\n",
    "           '建筑结构',\n",
    "           '装修情况',\n",
    "           '配备电梯',\n",
    "           '房屋年限',\n",
    "           '产权所属',\n",
    "           '室',\n",
    "           '厅',\n",
    "           '厨',\n",
    "           '卫',\n",
    "           '建筑面积',\n",
    "           '套内面积',\n",
    "           '梯户比值',\n",
    "           'lon',\n",
    "           'lat',\n",
    "           'distance'\n",
    "]]\n",
    "\n",
    "y = train['log_prices']\n",
    "X_train, X_test, y_train, y_test = train_test_split(X, y, test_size=0.2, random_state=42)"
   ]
  },
  {
   "cell_type": "code",
   "execution_count": 58,
   "metadata": {
    "collapsed": false,
    "id": "AC0E3041869741718F6DA725B09C5EF9",
    "jupyter": {},
    "notebookId": "676cfe3a624010767135b6bf",
    "scrolled": false,
    "slideshow": {
     "slide_type": "slide"
    },
    "tags": [],
    "trusted": true
   },
   "outputs": [],
   "source": [
    "# 文本型变量"
   ]
  },
  {
   "cell_type": "code",
   "execution_count": 65,
   "metadata": {
    "collapsed": false,
    "id": "50A3EFA6E57A4DCDAABB2CEB04E99794",
    "jupyter": {},
    "notebookId": "676cfe3a624010767135b6bf",
    "scrolled": false,
    "slideshow": {
     "slide_type": "slide"
    },
    "tags": [],
    "trusted": true
   },
   "outputs": [],
   "source": [
    "# 数值型变量\n",
    "numerical_cols=['室', '厅', '厨', '卫', '建筑面积', '梯户比值', 'lon', 'lat', 'distance']\n",
    "categorical_cols=['建筑结构', '装修情况', '配备电梯', '房屋年限', '产权所属']\n",
    "\n",
    "preprocessor = ColumnTransformer(\n",
    "    transformers=[\n",
    "        ('num', StandardScaler(), numerical_cols),\n",
    "        ('cat', OrdinalEncoder(), categorical_cols)\n",
    "    ]\n",
    ")\n",
    "\n",
    "\n",
    "\n",
    "X_train_processed = preprocessor.fit_transform(X_train)\n",
    "X_test_processed = preprocessor.transform(X_test)"
   ]
  },
  {
   "cell_type": "code",
   "execution_count": null,
   "metadata": {},
   "outputs": [],
   "source": [
    "try:\n",
    "    X_test_processed = preprocessor.transform(X_test)\n",
    "except ValueError as e:\n",
    "    print(\"Error occurred during transformation:\")\n",
    "    print(e)\n",
    "    for col_index, col_name in enumerate(categorical_cols):\n",
    "        train_categories = preprocessor.named_transformers_['cat'].categories_[col_index]\n",
    "        test_categories = X_test[col_name].unique()\n",
    "        unknown_categories = set(test_categories) - set(train_categories)\n",
    "\n",
    "        if unknown_categories:\n",
    "            print(f\"Column '{col_name}' has unknown categories: {unknown_categories}\")"
   ]
  },
  {
   "cell_type": "code",
   "execution_count": null,
   "metadata": {},
   "outputs": [],
   "source": [
    "# 2.设置xgboost和elastic net的调参网格\n",
    "xgb_param_grid = {\n",
    "    'max_depth': [3, 5, 7],\n",
    "    'n_estimators': [50, 100, 200],\n",
    "    'learning_rate': [0.01, 0.1, 0.2]\n",
    "}\n",
    "elastic_net_param_grid = {\n",
    "    'alpha': [0.01, 0.1, 1.0],\n",
    "    'l1_ratio': [0.1, 0.5, 0.9],  # l1:LASSO\n",
    "}\n",
    "\n",
    "# 3.对xgb做GridSearch\n",
    "xgb_model=xgb.XGBRegressor(random_state=42, use_label_encoder=False, eval_metric='mlogloss')\n",
    "xgb_grid_search = GridSearchCV(xgb_model, xgb_param_grid, cv=3, scoring='neg_mean_squared_error', verbose=1)\n",
    "xgb_grid_search.fit(X_train_processed, y_train)\n",
    "# 获取最佳的xgb模型\n",
    "best_xgb_model = xgb_grid_search.best_estimator_\n",
    "\n",
    "# 4.使用最佳xgb分类\n",
    "xgb_train_pred = best_xgb_model.predict(X_train_processed)\n",
    "xgb_test_pred = best_xgb_model.predict(X_test_processed)\n",
    "\n",
    "# 5. 使用 XGBoost 预测结果作为新的特征，准备训练第二层模型（ElasticNet）\n",
    "X_train_stack = pd.DataFrame(xgb_train_pred)\n",
    "X_test_stack = pd.DataFrame(xgb_test_pred)"
   ]
  },
  {
   "cell_type": "code",
   "execution_count": 68,
   "metadata": {
    "collapsed": false,
    "id": "EE364AF211D24CADA30C83C75950652D",
    "jupyter": {},
    "notebookId": "676cfe3a624010767135b6bf",
    "scrolled": false,
    "slideshow": {
     "slide_type": "slide"
    },
    "tags": [],
    "trusted": true
   },
   "outputs": [
    {
     "name": "stdout",
     "output_type": "stream",
     "text": [
      "Fitting 3 folds for each of 12 candidates, totalling 36 fits\n"
     ]
    }
   ],
   "source": [
    "# 第二层:线性模型\n",
    "\n",
    "# 1.对elastic net做GridSearch\n",
    "elastic_net = make_pipeline(StandardScaler(), ElasticNet())\n",
    "\n",
    "# 设置elastic net调参网格\n",
    "elastic_net_param_grid = {\n",
    "    'elasticnet__alpha': [0.1, 0.5, 1.0, 2.0],\n",
    "    'elasticnet__l1_ratio': [0.1, 0.5, 0.9]\n",
    "}\n",
    "# make pipeline的作用是什么??\n",
    "elastic_net_grid_search = GridSearchCV(elastic_net, elastic_net_param_grid, cv=3, scoring='neg_mean_squared_error', verbose=1)\n",
    "elastic_net_grid_search.fit(X_train_stack, y_train)\n",
    "# 获取最佳EN模型\n",
    "best_elastic_net_model = elastic_net_grid_search.best_estimator_\n",
    "\n",
    "# 2.用最优的EN模型进行预测\n",
    "elastic_net_pred = best_elastic_net_model.predict(X_test_stack)"
   ]
  },
  {
   "cell_type": "code",
   "execution_count": 69,
   "metadata": {
    "collapsed": false,
    "id": "2DC55E3AB54D48D8AE28A43A0611F5F4",
    "jupyter": {},
    "notebookId": "676cfe3a624010767135b6bf",
    "scrolled": false,
    "slideshow": {
     "slide_type": "slide"
    },
    "tags": [],
    "trusted": true
   },
   "outputs": [
    {
     "name": "stdout",
     "output_type": "stream",
     "text": [
      "Mean Squared Error of the stacked model: 0.025308055438806296\n"
     ]
    }
   ],
   "source": [
    "# 3.计算mean squared eror\n",
    "mse = mean_squared_error(y_test, elastic_net_pred)\n",
    "print(f'Mean Squared Error of the stacked model: {mse}')"
   ]
  },
  {
   "cell_type": "code",
   "execution_count": 71,
   "metadata": {
    "collapsed": false,
    "id": "7A7B432CFF844AA089001323EA5AA2BC",
    "jupyter": {},
    "notebookId": "676cfe3a624010767135b6bf",
    "scrolled": false,
    "slideshow": {
     "slide_type": "slide"
    },
    "tags": [],
    "trusted": true
   },
   "outputs": [],
   "source": [
    "# 三、生成预测结果-xgb\n",
    "X_input = test[[\n",
    "            '城市',\n",
    "           '建筑结构',\n",
    "           '装修情况',\n",
    "           '配备电梯',\n",
    "           '房屋年限',\n",
    "           '产权所属',\n",
    "           '室',\n",
    "           '厅',\n",
    "           '厨',\n",
    "           '卫',\n",
    "           '建筑面积',\n",
    "           '套内面积',\n",
    "           '梯户比值',\n",
    "           'lon',\n",
    "           'lat',\n",
    "           'distance'\n",
    "]]\n",
    "# xgb\n",
    "X_input_processed = preprocessor.transform(X_input)\n",
    "\n",
    "xgb_input_pred = best_xgb_model.predict(X_input_processed)\n",
    "X_input_stack = pd.DataFrame(xgb_input_pred)\n",
    "# EN\n",
    "test['log_prices'] = best_elastic_net_model.predict(X_input_stack)\n",
    "test['Price'] = np.exp(test['log_prices'])\n",
    "\n",
    "# 生成csv\n",
    "output = test[['ID','Price']]\n",
    "output.to_csv('predictions.csv', index=False)"
   ]
  }
 ],
 "metadata": {
  "kernelspec": {
   "display_name": "base",
   "language": "python",
   "name": "python3"
  },
  "language_info": {
   "codemirror_mode": {
    "name": "ipython",
    "version": 3
   },
   "file_extension": ".py",
   "mimetype": "text/x-python",
   "name": "python",
   "nbconvert_exporter": "python",
   "pygments_lexer": "ipython3",
   "version": "3.9.7"
  }
 },
 "nbformat": 4,
 "nbformat_minor": 0
}
